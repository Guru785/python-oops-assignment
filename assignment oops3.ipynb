{
 "cells": [
  {
   "cell_type": "code",
   "execution_count": 1,
   "id": "f43af34b-698d-4a23-b09a-e4c53992c7e8",
   "metadata": {},
   "outputs": [],
   "source": [
    "# Q1. What is Abstraction in OOps? Explain with an example."
   ]
  },
  {
   "cell_type": "code",
   "execution_count": 6,
   "id": "6ff97a1d-7824-4553-ade1-d4a113f8b98b",
   "metadata": {},
   "outputs": [],
   "source": [
    "'''it includes hinding implementation part and showing only the requared data and feature to the user .\n",
    "it is done hide implemenetation complexity and from the user ,to provide a good interface pragramming.'''\n",
    "\n",
    "class example:\n",
    "    def student_num(self):\n",
    "        pass\n",
    "    \n",
    "    def student_mark(self):\n",
    "        pass\n",
    "    def student(self):\n",
    "        pass"
   ]
  },
  {
   "cell_type": "code",
   "execution_count": 11,
   "id": "ca69fc88-e968-450c-892d-1f4e3d26af57",
   "metadata": {},
   "outputs": [],
   "source": [
    "import abc\n",
    "\n",
    "class example:\n",
    "    \n",
    "    @abc.abstractclassmethod\n",
    "    def student_num(self):\n",
    "        pass\n",
    "    \n",
    "    @abc.abstractclassmethod\n",
    "    def student_mark(self):\n",
    "        pass\n",
    "    @abc.abstractclassmethod\n",
    "    def student(self):\n",
    "        pass\n"
   ]
  },
  {
   "cell_type": "code",
   "execution_count": 20,
   "id": "7350df73-f3eb-4600-a766-a7935de5a161",
   "metadata": {},
   "outputs": [],
   "source": [
    "class demonstrate(example):\n",
    "    \n",
    "    def student_num(self):\n",
    "        return\" this is a student numbers\"\n",
    "    \n",
    "    def student_mark(self):\n",
    "        return\"this is a student marksheet for all\"\n",
    "    \n",
    "    def student(self):\n",
    "        return\" i'm a student in this school\"\n",
    "   "
   ]
  },
  {
   "cell_type": "code",
   "execution_count": 21,
   "id": "9abd331d-a3c3-4675-8ae4-fa38c626cdc2",
   "metadata": {},
   "outputs": [],
   "source": [
    "dem=demonstrate()"
   ]
  },
  {
   "cell_type": "code",
   "execution_count": 23,
   "id": "3054502a-ae2a-44fe-afdf-8459c47c4f7c",
   "metadata": {},
   "outputs": [
    {
     "data": {
      "text/plain": [
       "\" i'm a student in this school\""
      ]
     },
     "execution_count": 23,
     "metadata": {},
     "output_type": "execute_result"
    }
   ],
   "source": [
    "dem.student()"
   ]
  },
  {
   "cell_type": "code",
   "execution_count": 24,
   "id": "7b663b06-c390-4bc3-a062-914c82c55b8b",
   "metadata": {},
   "outputs": [
    {
     "data": {
      "text/plain": [
       "'this is a student marksheet for all'"
      ]
     },
     "execution_count": 24,
     "metadata": {},
     "output_type": "execute_result"
    }
   ],
   "source": [
    "dem.student_mark()"
   ]
  },
  {
   "cell_type": "code",
   "execution_count": 25,
   "id": "0c532c5c-d67f-4219-95f8-5acb103e151d",
   "metadata": {},
   "outputs": [
    {
     "data": {
      "text/plain": [
       "' this is a student numbers'"
      ]
     },
     "execution_count": 25,
     "metadata": {},
     "output_type": "execute_result"
    }
   ],
   "source": [
    "dem.student_num()"
   ]
  },
  {
   "cell_type": "code",
   "execution_count": 3,
   "id": "7648b6d9-317a-4c0e-92cd-ae7b80508467",
   "metadata": {},
   "outputs": [],
   "source": [
    "# Q2. Differentiate between Abstraction and Encapsulation. Explain with an example."
   ]
  },
  {
   "cell_type": "code",
   "execution_count": 27,
   "id": "4b8aa929-00b5-45e0-b1db-e268781b6182",
   "metadata": {},
   "outputs": [
    {
     "data": {
      "text/plain": [
       "'abstraction it is creates a blueprint or structure ,where to provide a good interface in programming.\\nEncapsulation\\nEncapsulation can be used to hide both data members and data functions or\\nmethods associated with an instantiated class or object.'"
      ]
     },
     "execution_count": 27,
     "metadata": {},
     "output_type": "execute_result"
    }
   ],
   "source": [
    "                                # abstraction\n",
    "'''abstraction it is creates a blueprint or structure ,where to provide a good interface in programming.\n",
    "                                Encapsulation\n",
    "Encapsulation can be used to hide both data members and data functions or\n",
    "methods associated with an instantiated class or object.'''"
   ]
  },
  {
   "cell_type": "code",
   "execution_count": 29,
   "id": "a2850861-c612-4b6c-84e1-d360887f2381",
   "metadata": {},
   "outputs": [],
   "source": [
    "# python program to demonstrate abstraction \n",
    "class abstraction:\n",
    "    \n",
    "    def memory(self):\n",
    "        pass\n",
    "    \n",
    "    def storage(self):\n",
    "        pass\n",
    "    \n",
    "    def expanding(self):\n",
    "        pass\n",
    "    \n",
    "   "
   ]
  },
  {
   "cell_type": "code",
   "execution_count": 30,
   "id": "446f23c9-1d1a-406e-8ea4-871473771473",
   "metadata": {},
   "outputs": [],
   "source": [
    "# python program to demonstrateencapsulation"
   ]
  },
  {
   "cell_type": "code",
   "execution_count": 31,
   "id": "49df7663-c60f-437e-89d1-506cdb4cf76c",
   "metadata": {},
   "outputs": [],
   "source": [
    "class my_self:\n",
    "    \n",
    "    def __init__(self,name,age,contact,address):\n",
    "        self.__name=name\n",
    "        self.__age=age\n",
    "        self.__contact=contact\n",
    "        self.__address=address\n",
    "        "
   ]
  },
  {
   "cell_type": "code",
   "execution_count": 32,
   "id": "ae65d91f-62b1-4bbd-9262-4070258fa51c",
   "metadata": {},
   "outputs": [],
   "source": [
    "my=my_self(\"guru\",45,8896123654,\"kondapur ps madhapur state hyd\")"
   ]
  },
  {
   "cell_type": "code",
   "execution_count": 34,
   "id": "eeaf0337-f906-45c4-9057-5efa8f1e036e",
   "metadata": {},
   "outputs": [
    {
     "data": {
      "text/plain": [
       "'guru'"
      ]
     },
     "execution_count": 34,
     "metadata": {},
     "output_type": "execute_result"
    }
   ],
   "source": [
    "my._my_self__name"
   ]
  },
  {
   "cell_type": "code",
   "execution_count": 35,
   "id": "7c0bb4c2-a2a3-41d2-b39a-25063aece7ff",
   "metadata": {},
   "outputs": [
    {
     "data": {
      "text/plain": [
       "8896123654"
      ]
     },
     "execution_count": 35,
     "metadata": {},
     "output_type": "execute_result"
    }
   ],
   "source": [
    "my._my_self__contact"
   ]
  },
  {
   "cell_type": "code",
   "execution_count": 36,
   "id": "b952bcc9-4780-4a45-b3ac-cc5b163037a8",
   "metadata": {},
   "outputs": [
    {
     "data": {
      "text/plain": [
       "'kondapur ps madhapur state hyd'"
      ]
     },
     "execution_count": 36,
     "metadata": {},
     "output_type": "execute_result"
    }
   ],
   "source": [
    "my._my_self__address"
   ]
  },
  {
   "cell_type": "code",
   "execution_count": 37,
   "id": "df26934c-9178-4b94-b58c-8203ce2d003a",
   "metadata": {},
   "outputs": [],
   "source": [
    "# Q3. What is abc module in python? Why is it used?"
   ]
  },
  {
   "cell_type": "code",
   "execution_count": 38,
   "id": "8720999f-28f2-463b-a716-2feee286df42",
   "metadata": {},
   "outputs": [
    {
     "data": {
      "text/plain": [
       "'Although Python does not offer fully object-oriented programming, it does support abstraction and abstract classes.\\nSince Python does not allow us to build abstract classes directly, \\nit offers the ABC module, which provides the architecture for defining the base of Abstract Base Classes.'"
      ]
     },
     "execution_count": 38,
     "metadata": {},
     "output_type": "execute_result"
    }
   ],
   "source": [
    "'''Although Python does not offer fully object-oriented programming, it does support abstraction and abstract classes.\n",
    "Since Python does not allow us to build abstract classes directly, \n",
    "it offers the ABC module, which provides the architecture for defining the base of Abstract Base Classes.'''"
   ]
  },
  {
   "cell_type": "code",
   "execution_count": null,
   "id": "5701bc34-b06c-464d-9a8d-53674b49676e",
   "metadata": {},
   "outputs": [],
   "source": [
    "# Q4. How can we achieve data abstraction?\n",
    "# Q5. Can we create an instance of an abstract class? Explain your answer."
   ]
  }
 ],
 "metadata": {
  "kernelspec": {
   "display_name": "Python 3 (ipykernel)",
   "language": "python",
   "name": "python3"
  },
  "language_info": {
   "codemirror_mode": {
    "name": "ipython",
    "version": 3
   },
   "file_extension": ".py",
   "mimetype": "text/x-python",
   "name": "python",
   "nbconvert_exporter": "python",
   "pygments_lexer": "ipython3",
   "version": "3.10.8"
  }
 },
 "nbformat": 4,
 "nbformat_minor": 5
}
