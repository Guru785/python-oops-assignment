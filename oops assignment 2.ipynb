{
 "cells": [
  {
   "cell_type": "code",
   "execution_count": 2,
   "id": "b98babe8-47ff-4633-85ed-78c08a535fa7",
   "metadata": {},
   "outputs": [],
   "source": [
    "# Q1. Explain Class and Object with respect to Object-Oriented Programming. Give a suitable example."
   ]
  },
  {
   "cell_type": "code",
   "execution_count": 3,
   "id": "d8be9f4c-3f26-459e-8f69-5082ffbaff00",
   "metadata": {},
   "outputs": [],
   "source": [
    "'''                    Class\n",
    "Python is an object oriented programming language.\n",
    "Almost everything in Python is an object, with its properties and methods.\n",
    "A Class is like an object constructor, or a \"blueprint\" for creating objects.\n",
    "                    'Objects'\n",
    "Objects can also contain methods. Methods in objects are functions that belong to the object.'''\n",
    "\n",
    "#this is a class demonstrate\n",
    "\n",
    "class radha:\n",
    "    x=10"
   ]
  },
  {
   "cell_type": "code",
   "execution_count": 4,
   "id": "d9b9346c-ae3c-464b-81da-cb54a3c70c2f",
   "metadata": {},
   "outputs": [
    {
     "name": "stdout",
     "output_type": "stream",
     "text": [
      "10\n"
     ]
    }
   ],
   "source": [
    "#this is a object demonstrate\n",
    "rdh=radha()\n",
    "print(rdh.x)"
   ]
  },
  {
   "cell_type": "code",
   "execution_count": 5,
   "id": "82bf49fb-4745-4300-90e0-0125191c396e",
   "metadata": {},
   "outputs": [],
   "source": [
    "# Q2. Name the four pillars of OOPs."
   ]
  },
  {
   "cell_type": "code",
   "execution_count": 6,
   "id": "f37536bf-f017-41f0-af83-a8e76e2ffe6f",
   "metadata": {},
   "outputs": [
    {
     "data": {
      "text/plain": [
       "'object oriented programming langueges four pillars name\\n1 polymorpism\\n2 encapsultion\\n3 inheristance\\n4 abstraction '"
      ]
     },
     "execution_count": 6,
     "metadata": {},
     "output_type": "execute_result"
    }
   ],
   "source": [
    "'''object oriented programming langueges four pillars name\n",
    "1 polymorpism\n",
    "2 encapsultion\n",
    "3 inheristance\n",
    "4 abstraction '''"
   ]
  },
  {
   "cell_type": "code",
   "execution_count": 7,
   "id": "3bc1fcb8-a6ec-4a6d-a860-ffbbfebfebf3",
   "metadata": {},
   "outputs": [],
   "source": [
    "# Q3. Explain why the __init__() function is used. Give a suitable example."
   ]
  },
  {
   "cell_type": "code",
   "execution_count": 8,
   "id": "ecae919b-0420-4729-8981-1dce41a29d63",
   "metadata": {},
   "outputs": [
    {
     "data": {
      "text/plain": [
       "'Use the __init__() function to assign values to object properties, \\nor other operations that are necessary to do when the object is being created:'"
      ]
     },
     "execution_count": 8,
     "metadata": {},
     "output_type": "execute_result"
    }
   ],
   "source": [
    "'''Use the __init__() function to assign values to object properties, \n",
    "or other operations that are necessary to do when the object is being created:'''"
   ]
  },
  {
   "cell_type": "code",
   "execution_count": 17,
   "id": "ccba0e82-973a-410b-84f1-58ea049df97a",
   "metadata": {},
   "outputs": [
    {
     "name": "stdout",
     "output_type": "stream",
     "text": [
      "guru\n",
      "24\n"
     ]
    }
   ],
   "source": [
    "class radha:\n",
    "    \n",
    "    def __init__(self,name,age):\n",
    "        self.name=name\n",
    "        self.age=age\n",
    "     \n",
    "    rdh=radha(\"guru\",24)  \n",
    "    print(rdh.name)\n",
    "    print(rdh.age)\n"
   ]
  },
  {
   "cell_type": "code",
   "execution_count": 19,
   "id": "eabc1e9d-77bc-4329-9add-4a2929f0446a",
   "metadata": {},
   "outputs": [
    {
     "data": {
      "text/plain": [
       "'SELF represents the instance of class. This handy keyword allows you to access variables,\\nattributes, and methods of a defined class in Python'"
      ]
     },
     "execution_count": 19,
     "metadata": {},
     "output_type": "execute_result"
    }
   ],
   "source": [
    "\n",
    "# Q4. Why self is used in OOPs?\n",
    "\n",
    "'''SELF represents the instance of class. This handy keyword allows you to access variables,\n",
    "attributes, and methods of a defined class in Python'''"
   ]
  },
  {
   "cell_type": "code",
   "execution_count": 20,
   "id": "29437a02-2985-4ecb-8371-57870f56e0dd",
   "metadata": {},
   "outputs": [],
   "source": [
    "# Q5. What is inheritance? Give an example for each type of inheritance."
   ]
  },
  {
   "cell_type": "code",
   "execution_count": 21,
   "id": "513dd102-ee6a-48d6-974c-da4a19c4b16f",
   "metadata": {},
   "outputs": [],
   "source": [
    "# python program to demonstrate single inheritance"
   ]
  },
  {
   "cell_type": "code",
   "execution_count": 22,
   "id": "257a9eec-2160-4b02-9242-0271569f0576",
   "metadata": {},
   "outputs": [],
   "source": [
    "# python program to demonstrate single inheritance\n",
    "\n",
    "class parent:\n",
    "    \n",
    "    def function(self):\n",
    "        print(\"this function is in parent class\")"
   ]
  },
  {
   "cell_type": "code",
   "execution_count": 23,
   "id": "ab027ec0-9481-4e49-a584-929665b357d3",
   "metadata": {},
   "outputs": [],
   "source": [
    "class child(parent):\n",
    "    def function1(self):\n",
    "        print(\"this function is in child class\")"
   ]
  },
  {
   "cell_type": "code",
   "execution_count": 24,
   "id": "0f15ff11-ba1f-423b-b4c9-a18a69b868c2",
   "metadata": {},
   "outputs": [],
   "source": [
    "pnm=child()"
   ]
  },
  {
   "cell_type": "code",
   "execution_count": 25,
   "id": "6de9858d-c487-4a9b-b4a3-012b6d75df96",
   "metadata": {},
   "outputs": [
    {
     "name": "stdout",
     "output_type": "stream",
     "text": [
      "this function is in parent class\n"
     ]
    }
   ],
   "source": [
    "pnm.function()"
   ]
  },
  {
   "cell_type": "code",
   "execution_count": 26,
   "id": "e01f30ce-e0ae-4cef-8216-b62b56cdb650",
   "metadata": {},
   "outputs": [
    {
     "name": "stdout",
     "output_type": "stream",
     "text": [
      "this function is in child class\n"
     ]
    }
   ],
   "source": [
    "pnm.function1()"
   ]
  },
  {
   "cell_type": "code",
   "execution_count": 27,
   "id": "6272f79f-8a2e-4030-a6d5-b88b325285da",
   "metadata": {},
   "outputs": [],
   "source": [
    "# multiple inheritance\n",
    "# python program to demonstrate multiple inheritance\n",
    "\n",
    "class mother:\n",
    "    mothername=\" \"\n",
    "    def mother(self):\n",
    "        print(self.mothername)"
   ]
  },
  {
   "cell_type": "code",
   "execution_count": 28,
   "id": "f0f6f400-8b5a-48fe-922e-903a3ae5a826",
   "metadata": {},
   "outputs": [],
   "source": [
    "class father:\n",
    "    fathername=\" \"\n",
    "    def father(self):\n",
    "        print(self.father)"
   ]
  },
  {
   "cell_type": "code",
   "execution_count": 29,
   "id": "ee63fe36-63cc-4d8c-b150-f61c3e55ac20",
   "metadata": {},
   "outputs": [],
   "source": [
    "class son(mother,father):\n",
    "    def parent(self):\n",
    "        print(\"mothername:\",self.mothername)\n",
    "        print(\"fathername:\",self.fathername)"
   ]
  },
  {
   "cell_type": "code",
   "execution_count": 30,
   "id": "1e8020f8-70d2-41f6-9b77-3ec6a9a0a72a",
   "metadata": {},
   "outputs": [],
   "source": [
    "s=son()"
   ]
  },
  {
   "cell_type": "code",
   "execution_count": 31,
   "id": "7f0015d9-9b4e-4bc5-9b43-51aa39e560b6",
   "metadata": {},
   "outputs": [],
   "source": [
    "s.fathername=\"rama\"\n",
    "s.mothername=\"sita\""
   ]
  },
  {
   "cell_type": "code",
   "execution_count": 33,
   "id": "05c46638-7f93-4093-824f-e16adae92dce",
   "metadata": {},
   "outputs": [
    {
     "name": "stdout",
     "output_type": "stream",
     "text": [
      "mothername: sita\n",
      "fathername: rama\n"
     ]
    }
   ],
   "source": [
    "s.parent()"
   ]
  },
  {
   "cell_type": "code",
   "execution_count": 34,
   "id": "293e560d-2f30-4f14-9b55-1f2bd369e8b6",
   "metadata": {},
   "outputs": [],
   "source": [
    "# multilavel inheritance\n",
    "# python program to demonstrate multilavel inheritance\n",
    "\n",
    "class radha:\n",
    "    def radha_one(self):\n",
    "        return \"this is my radha 1\""
   ]
  },
  {
   "cell_type": "code",
   "execution_count": 35,
   "id": "45432f42-31f7-4514-9034-ec7d4b5db2e9",
   "metadata": {},
   "outputs": [],
   "source": [
    "class radha_name(radha):\n",
    "    def radha_name_2(self):\n",
    "        return \"this is radha class 2\""
   ]
  },
  {
   "cell_type": "code",
   "execution_count": 36,
   "id": "0ab1554c-c90e-4b56-8f88-9d80e329778e",
   "metadata": {},
   "outputs": [],
   "source": [
    "class radha_name1(radha_name):\n",
    "    pass"
   ]
  },
  {
   "cell_type": "code",
   "execution_count": 37,
   "id": "ff64a8db-0298-4436-b674-adf00d90efba",
   "metadata": {},
   "outputs": [],
   "source": [
    "object=radha_name1()"
   ]
  },
  {
   "cell_type": "code",
   "execution_count": 38,
   "id": "0f752dc3-09e0-48ab-8fb9-149c5d04a728",
   "metadata": {},
   "outputs": [
    {
     "data": {
      "text/plain": [
       "'this is radha class 2'"
      ]
     },
     "execution_count": 38,
     "metadata": {},
     "output_type": "execute_result"
    }
   ],
   "source": [
    "object.radha_name_2()"
   ]
  },
  {
   "cell_type": "code",
   "execution_count": 39,
   "id": "0ef6a827-b9dc-41bc-914a-891b1240cd71",
   "metadata": {},
   "outputs": [
    {
     "data": {
      "text/plain": [
       "'this is my radha 1'"
      ]
     },
     "execution_count": 39,
     "metadata": {},
     "output_type": "execute_result"
    }
   ],
   "source": [
    "object.radha_one()"
   ]
  },
  {
   "cell_type": "code",
   "execution_count": 51,
   "id": "551ca5f9-032b-4d30-98f4-47c3763e8bc0",
   "metadata": {},
   "outputs": [],
   "source": [
    "# hierarchical inheritance\n",
    "# python program to demonstrate hierarchical inheritance\n",
    "class child:\n",
    "    def function1(self):\n",
    "        return \"this function is in child\""
   ]
  },
  {
   "cell_type": "code",
   "execution_count": 52,
   "id": "f76e255b-7ef3-48dd-a8f4-5d0cd16a35fc",
   "metadata": {},
   "outputs": [],
   "source": [
    "class baby1(child):\n",
    "    def function2(self):\n",
    "        return \"this function is in baby 1\""
   ]
  },
  {
   "cell_type": "code",
   "execution_count": 53,
   "id": "f4c0ac7e-f648-402d-b54a-a320660bdf81",
   "metadata": {},
   "outputs": [],
   "source": [
    "class baby2(child):\n",
    "    def function3(child):\n",
    "        return \"this is in baby2\""
   ]
  },
  {
   "cell_type": "code",
   "execution_count": 59,
   "id": "d2de210e-6db1-49b2-99d0-4f6fcf23d509",
   "metadata": {},
   "outputs": [],
   "source": [
    "chd1=baby1()"
   ]
  },
  {
   "cell_type": "code",
   "execution_count": 60,
   "id": "aad41b3f-a218-435f-a556-529aa40747cd",
   "metadata": {},
   "outputs": [],
   "source": [
    "chd2=baby2()"
   ]
  },
  {
   "cell_type": "code",
   "execution_count": 61,
   "id": "3620b0da-2e64-4953-a472-046e64ff2c06",
   "metadata": {},
   "outputs": [
    {
     "data": {
      "text/plain": [
       "'this function is in child'"
      ]
     },
     "execution_count": 61,
     "metadata": {},
     "output_type": "execute_result"
    }
   ],
   "source": [
    "chd1.function1()"
   ]
  },
  {
   "cell_type": "code",
   "execution_count": 62,
   "id": "3fb17bbc-4fbb-44ce-9780-0688cd2d8d11",
   "metadata": {},
   "outputs": [
    {
     "data": {
      "text/plain": [
       "'this function is in baby 1'"
      ]
     },
     "execution_count": 62,
     "metadata": {},
     "output_type": "execute_result"
    }
   ],
   "source": [
    "chd1.function2()"
   ]
  },
  {
   "cell_type": "code",
   "execution_count": 63,
   "id": "a2ff824f-9666-444b-a9e9-b81d57d5e04d",
   "metadata": {},
   "outputs": [
    {
     "data": {
      "text/plain": [
       "'this function is in child'"
      ]
     },
     "execution_count": 63,
     "metadata": {},
     "output_type": "execute_result"
    }
   ],
   "source": [
    "chd2.function1()"
   ]
  },
  {
   "cell_type": "code",
   "execution_count": 64,
   "id": "663a3beb-c8d9-4604-bc2b-73be03fa38fa",
   "metadata": {},
   "outputs": [
    {
     "data": {
      "text/plain": [
       "'this is in baby2'"
      ]
     },
     "execution_count": 64,
     "metadata": {},
     "output_type": "execute_result"
    }
   ],
   "source": [
    "chd2.function3()"
   ]
  },
  {
   "cell_type": "code",
   "execution_count": 77,
   "id": "6e293366-ba4f-4f0b-b4c7-3a7898b54f8b",
   "metadata": {},
   "outputs": [],
   "source": [
    "class office:\n",
    "    def office_work1(self):\n",
    "        return 'this is my jobs'"
   ]
  },
  {
   "cell_type": "code",
   "execution_count": 78,
   "id": "5238c7c0-8171-4033-9cd6-893ba4139b5a",
   "metadata": {},
   "outputs": [],
   "source": [
    "class worker1(office):\n",
    "    def office_work2(self):\n",
    "        return\"this is my point of view\""
   ]
  },
  {
   "cell_type": "code",
   "execution_count": 79,
   "id": "7be46350-5024-409e-a9d7-1fbe768b6f3e",
   "metadata": {},
   "outputs": [],
   "source": [
    "class worker2(office):\n",
    "    def office_work3(self):\n",
    "        return\"this is my marketing jobs\""
   ]
  },
  {
   "cell_type": "code",
   "execution_count": 80,
   "id": "e6fe95ba-0014-40ca-8ae9-25ffdde4a245",
   "metadata": {},
   "outputs": [],
   "source": [
    "class worker3(worker1,office):\n",
    "    def office_worker4(self):\n",
    "        return \"this is my last function \""
   ]
  },
  {
   "cell_type": "code",
   "execution_count": 87,
   "id": "e5c19268-d482-4d6d-a07f-a42eccda9959",
   "metadata": {},
   "outputs": [],
   "source": [
    "wrk=worker3()"
   ]
  },
  {
   "cell_type": "code",
   "execution_count": 88,
   "id": "2fd87e27-8357-428c-b0de-e21f52fc8445",
   "metadata": {},
   "outputs": [
    {
     "data": {
      "text/plain": [
       "'this is my jobs'"
      ]
     },
     "execution_count": 88,
     "metadata": {},
     "output_type": "execute_result"
    }
   ],
   "source": [
    "wrk.office_work1()"
   ]
  },
  {
   "cell_type": "code",
   "execution_count": 89,
   "id": "2d870b30-d76b-4ad9-a143-c1e54fa5a5b0",
   "metadata": {},
   "outputs": [
    {
     "data": {
      "text/plain": [
       "'this is my point of view'"
      ]
     },
     "execution_count": 89,
     "metadata": {},
     "output_type": "execute_result"
    }
   ],
   "source": [
    "wrk.office_work2()\n"
   ]
  },
  {
   "cell_type": "code",
   "execution_count": 90,
   "id": "35f0b221-2231-4f1b-b7d0-a4298731dd7f",
   "metadata": {},
   "outputs": [
    {
     "data": {
      "text/plain": [
       "'this is my last function '"
      ]
     },
     "execution_count": 90,
     "metadata": {},
     "output_type": "execute_result"
    }
   ],
   "source": [
    "wrk.office_worker4()"
   ]
  },
  {
   "cell_type": "code",
   "execution_count": null,
   "id": "33eef6db-a589-4cce-aa35-1875cf801b36",
   "metadata": {},
   "outputs": [],
   "source": []
  }
 ],
 "metadata": {
  "kernelspec": {
   "display_name": "Python 3 (ipykernel)",
   "language": "python",
   "name": "python3"
  },
  "language_info": {
   "codemirror_mode": {
    "name": "ipython",
    "version": 3
   },
   "file_extension": ".py",
   "mimetype": "text/x-python",
   "name": "python",
   "nbconvert_exporter": "python",
   "pygments_lexer": "ipython3",
   "version": "3.10.8"
  }
 },
 "nbformat": 4,
 "nbformat_minor": 5
}
