{
 "cells": [
  {
   "cell_type": "code",
   "execution_count": 1,
   "id": "6d23454b-ba7c-42f8-b967-e282b067c717",
   "metadata": {},
   "outputs": [],
   "source": [
    "# Q1, Create a vehicle class with an init method having instance variables as name_of_vehicle, max_speed\n",
    "# and average_of_vehicle. "
   ]
  },
  {
   "cell_type": "code",
   "execution_count": 8,
   "id": "d4a35ce4-4c21-48e2-b194-1f09dd01a0bf",
   "metadata": {},
   "outputs": [],
   "source": [
    "class vehicle:\n",
    "    \n",
    "    def __init__(self,name_of_vehicle,max_speed,average_of_vehicle):\n",
    "        self.name_of_vehicle=name_of_vehicle\n",
    "        self.max_speed=max_speed\n",
    "        self.average_of_vehicle=average_of_vehicle\n",
    "        \n",
    "    def return_vehicle_class(self):\n",
    "        return self.name_of_vehicle,self.max_speed,self.average_of_vehicle"
   ]
  },
  {
   "cell_type": "code",
   "execution_count": 9,
   "id": "f353d88d-f935-4832-aa28-20d7524d3ccc",
   "metadata": {},
   "outputs": [],
   "source": [
    "vehicle1=vehicle(\"mahendra\",120,50)"
   ]
  },
  {
   "cell_type": "code",
   "execution_count": 11,
   "id": "3c6bb2aa-e99f-44a9-bf6c-d0e341a85c91",
   "metadata": {},
   "outputs": [
    {
     "data": {
      "text/plain": [
       "('mahendra', 120, 50)"
      ]
     },
     "execution_count": 11,
     "metadata": {},
     "output_type": "execute_result"
    }
   ],
   "source": [
    "vehicle1.return_vehicle_class()"
   ]
  },
  {
   "cell_type": "code",
   "execution_count": 12,
   "id": "3f935985-142e-4752-95a6-dbc95cc750e1",
   "metadata": {},
   "outputs": [],
   "source": [
    "# Q2.  Create a child class car from the vehicle class created in Que 1, which will inherit the vehicle class.\n",
    "# Create a method named seating_capacity which takes capacity as an argument and returns the name of\n",
    "# the vehicle and its seating capacity."
   ]
  },
  {
   "cell_type": "code",
   "execution_count": 16,
   "id": "45983f74-85e9-4e40-bb7d-fd893eaf4836",
   "metadata": {},
   "outputs": [
    {
     "data": {
      "text/plain": [
       "'where parent class and mother class both class access in a single class or child class is known as multiple inhereistance.'"
      ]
     },
     "execution_count": 16,
     "metadata": {},
     "output_type": "execute_result"
    }
   ],
   "source": [
    "# Q3. What is multiple inheritance? Write a python code to demonstrate multiple inheritance\n",
    "'''where parent class and mother class both class access in a single class or child class is known as multiple inhereistance.'''"
   ]
  },
  {
   "cell_type": "code",
   "execution_count": 17,
   "id": "f3a625b2-4511-472c-9961-c5f73df2ab7c",
   "metadata": {},
   "outputs": [],
   "source": [
    "           # demonstrate multiple inheritance"
   ]
  },
  {
   "cell_type": "code",
   "execution_count": 18,
   "id": "1407edc2-decc-4126-8797-483232722243",
   "metadata": {},
   "outputs": [],
   "source": [
    "class demonstrate1:\n",
    "    \n",
    "    def test_demonstrate1(self):\n",
    "        return \" this is my demonstrate class1\""
   ]
  },
  {
   "cell_type": "code",
   "execution_count": 19,
   "id": "5a51c96c-a53e-487d-81cd-667611ec1973",
   "metadata": {},
   "outputs": [],
   "source": [
    "class demonstrate2:\n",
    "    def test_demonstrate2(self):\n",
    "        return \"this is my demonstrate class2\""
   ]
  },
  {
   "cell_type": "code",
   "execution_count": 20,
   "id": "8d9f1aa9-4aed-4d5e-b080-2099275ace96",
   "metadata": {},
   "outputs": [],
   "source": [
    "class demonstrate3(demonstrate1,demonstrate2):\n",
    "    pass"
   ]
  },
  {
   "cell_type": "code",
   "execution_count": 21,
   "id": "a7905c62-4e76-4810-a718-c32865e5688f",
   "metadata": {},
   "outputs": [],
   "source": [
    "multiple=demonstrate3()"
   ]
  },
  {
   "cell_type": "code",
   "execution_count": 22,
   "id": "bb519b8c-61bc-4a39-9038-e69c2236f7cc",
   "metadata": {},
   "outputs": [
    {
     "data": {
      "text/plain": [
       "' this is my demonstrate class1'"
      ]
     },
     "execution_count": 22,
     "metadata": {},
     "output_type": "execute_result"
    }
   ],
   "source": [
    "multiple.test_demonstrate1()"
   ]
  },
  {
   "cell_type": "code",
   "execution_count": 23,
   "id": "7600388e-f82c-42c6-a7e8-16753acdf8d6",
   "metadata": {},
   "outputs": [
    {
     "data": {
      "text/plain": [
       "'this is my demonstrate class2'"
      ]
     },
     "execution_count": 23,
     "metadata": {},
     "output_type": "execute_result"
    }
   ],
   "source": [
    "multiple.test_demonstrate2()"
   ]
  },
  {
   "cell_type": "code",
   "execution_count": 24,
   "id": "88728e3e-9cfb-4468-a677-af6e1b2e6362",
   "metadata": {},
   "outputs": [],
   "source": [
    "# Q4. What are getter and setter in python? Create a class and create a getter and a setter method in this\n",
    "# class."
   ]
  },
  {
   "cell_type": "code",
   "execution_count": 77,
   "id": "c7cd2558-bf50-44df-a6be-0da0a2dcd429",
   "metadata": {},
   "outputs": [],
   "source": [
    "\"\"\"  'GETTER' :where method or function inside pass the data ,user can view and  know ,this is the role of getter.\n",
    "      'setter'   : wherer method or function inside pass the data,user can edit the value.\"\"\"\n",
    "class vehicle:\n",
    "    \n",
    "    def __init__(self,year,name,model,puel,speed,average):\n",
    "        self.__year=year\n",
    "        self.__name=name\n",
    "        self.__model=model\n",
    "        self.__puel=puel\n",
    "        self.__speed=speed\n",
    "        self.__average=average\n",
    "    def set_speed(self,speed):\n",
    "          self.__speed=20 if speed < 0 else speed\n",
    "    \n",
    "    def get_speed(self):\n",
    "        return self.__speed\n",
    "    "
   ]
  },
  {
   "cell_type": "code",
   "execution_count": 78,
   "id": "3a5e079d-6299-4dcc-b899-bfa11848afa0",
   "metadata": {},
   "outputs": [],
   "source": [
    "vehicle_class=vehicle(2011,\"mahendra\",'mahendra tha',\"petrol\",60,20)"
   ]
  },
  {
   "cell_type": "code",
   "execution_count": 79,
   "id": "2f2009ca-339b-4d5b-8752-82d530944544",
   "metadata": {},
   "outputs": [
    {
     "data": {
      "text/plain": [
       "2011"
      ]
     },
     "execution_count": 79,
     "metadata": {},
     "output_type": "execute_result"
    }
   ],
   "source": [
    "vehicle_class._vehicle__year"
   ]
  },
  {
   "cell_type": "code",
   "execution_count": 80,
   "id": "08d29693-5751-4845-aed9-40ece86c1c8a",
   "metadata": {},
   "outputs": [
    {
     "data": {
      "text/plain": [
       "'mahendra tha'"
      ]
     },
     "execution_count": 80,
     "metadata": {},
     "output_type": "execute_result"
    }
   ],
   "source": [
    "vehicle_class._vehicle__model"
   ]
  },
  {
   "cell_type": "code",
   "execution_count": 81,
   "id": "c38b10d1-cef5-417e-8e2f-e80cca8ddf37",
   "metadata": {},
   "outputs": [
    {
     "data": {
      "text/plain": [
       "'mahendra'"
      ]
     },
     "execution_count": 81,
     "metadata": {},
     "output_type": "execute_result"
    }
   ],
   "source": [
    "vehicle_class._vehicle__name"
   ]
  },
  {
   "cell_type": "code",
   "execution_count": 82,
   "id": "8e2c4cb2-62ab-4ed9-b1ea-47b539350fe9",
   "metadata": {},
   "outputs": [
    {
     "data": {
      "text/plain": [
       "'petrol'"
      ]
     },
     "execution_count": 82,
     "metadata": {},
     "output_type": "execute_result"
    }
   ],
   "source": [
    "vehicle_class._vehicle__puel"
   ]
  },
  {
   "cell_type": "code",
   "execution_count": 83,
   "id": "6516df9b-ab4b-4f2a-8d25-9c4e3e405c43",
   "metadata": {},
   "outputs": [
    {
     "data": {
      "text/plain": [
       "60"
      ]
     },
     "execution_count": 83,
     "metadata": {},
     "output_type": "execute_result"
    }
   ],
   "source": [
    "vehicle_class._vehicle__speed"
   ]
  },
  {
   "cell_type": "code",
   "execution_count": 84,
   "id": "64c5fc82-2dc8-4c39-b231-860ad79fc097",
   "metadata": {},
   "outputs": [
    {
     "data": {
      "text/plain": [
       "20"
      ]
     },
     "execution_count": 84,
     "metadata": {},
     "output_type": "execute_result"
    }
   ],
   "source": [
    "vehicle_class._vehicle__average"
   ]
  },
  {
   "cell_type": "code",
   "execution_count": 85,
   "id": "bb439520-e146-4d31-b3c0-b214cc6d3e0a",
   "metadata": {},
   "outputs": [
    {
     "data": {
      "text/plain": [
       "60"
      ]
     },
     "execution_count": 85,
     "metadata": {},
     "output_type": "execute_result"
    }
   ],
   "source": [
    "vehicle_class.get_speed()"
   ]
  },
  {
   "cell_type": "code",
   "execution_count": 86,
   "id": "94ddd089-91e0-46a8-bd8e-e1bedd6a4924",
   "metadata": {},
   "outputs": [],
   "source": [
    "vehicle_class.set_speed(90)"
   ]
  },
  {
   "cell_type": "code",
   "execution_count": 88,
   "id": "eda0346c-29cd-4dbd-b444-f27ae3a59deb",
   "metadata": {},
   "outputs": [
    {
     "data": {
      "text/plain": [
       "90"
      ]
     },
     "execution_count": 88,
     "metadata": {},
     "output_type": "execute_result"
    }
   ],
   "source": [
    "vehicle_class.get_speed()"
   ]
  },
  {
   "cell_type": "code",
   "execution_count": 89,
   "id": "d831b2a3-0a7b-4c15-9f71-df6ff4ccbf5e",
   "metadata": {},
   "outputs": [],
   "source": [
    "vehicle_class.set_speed(120)"
   ]
  },
  {
   "cell_type": "code",
   "execution_count": 90,
   "id": "e76b5e17-5cd1-4e6f-8e83-2f96c85a6289",
   "metadata": {},
   "outputs": [
    {
     "data": {
      "text/plain": [
       "120"
      ]
     },
     "execution_count": 90,
     "metadata": {},
     "output_type": "execute_result"
    }
   ],
   "source": [
    "vehicle_class.get_speed()"
   ]
  },
  {
   "cell_type": "code",
   "execution_count": 102,
   "id": "e7717823-1b40-4350-ae22-9735bf87ff2c",
   "metadata": {},
   "outputs": [],
   "source": [
    "# Q5.What is method overriding in python? Write a python code to demonstrate method overriding.\n",
    "\n",
    "                #method overriding in python\n",
    "    '''specific implementation process of data provided that\n",
    "are already defined in the parent class'''\n"
   ]
  },
  {
   "cell_type": "code",
   "execution_count": 109,
   "id": "cbae3b6f-7630-4388-a7a1-8ba37172c28c",
   "metadata": {},
   "outputs": [],
   "source": [
    "\n",
    "                        # demonstrate method overriding.\n",
    "class over:\n",
    "    \n",
    "    def __init__(self,a,b):\n",
    "        self.a=a\n",
    "        self.b=b"
   ]
  },
  {
   "cell_type": "code",
   "execution_count": 110,
   "id": "554956c2-58f0-4246-9a7a-6d21a06aa896",
   "metadata": {},
   "outputs": [],
   "source": [
    "overriding=over(1,5)"
   ]
  },
  {
   "cell_type": "code",
   "execution_count": 111,
   "id": "7768365a-669d-4694-9e63-2ebacaa58775",
   "metadata": {},
   "outputs": [
    {
     "data": {
      "text/plain": [
       "1"
      ]
     },
     "execution_count": 111,
     "metadata": {},
     "output_type": "execute_result"
    }
   ],
   "source": [
    "overriding.a"
   ]
  },
  {
   "cell_type": "code",
   "execution_count": 112,
   "id": "33d0a11d-013e-4ddf-bbdb-5ad2aeeaa4cf",
   "metadata": {},
   "outputs": [],
   "source": [
    "overriding.a=526"
   ]
  },
  {
   "cell_type": "code",
   "execution_count": 113,
   "id": "393c4596-fa23-49e9-8d15-502a053357d8",
   "metadata": {},
   "outputs": [
    {
     "data": {
      "text/plain": [
       "526"
      ]
     },
     "execution_count": 113,
     "metadata": {},
     "output_type": "execute_result"
    }
   ],
   "source": [
    "overriding.a"
   ]
  },
  {
   "cell_type": "code",
   "execution_count": null,
   "id": "bed434bf-a33b-49ca-9428-4d74e1b38700",
   "metadata": {},
   "outputs": [],
   "source": [
    "# Q2.  Create a child class car from the vehicle class created in Que 1, which will inherit the vehicle class.\n",
    "# Create a method named seating_capacity which takes capacity as an argument and returns the name of\n",
    "# the vehicle and its seating capacity."
   ]
  }
 ],
 "metadata": {
  "kernelspec": {
   "display_name": "Python 3 (ipykernel)",
   "language": "python",
   "name": "python3"
  },
  "language_info": {
   "codemirror_mode": {
    "name": "ipython",
    "version": 3
   },
   "file_extension": ".py",
   "mimetype": "text/x-python",
   "name": "python",
   "nbconvert_exporter": "python",
   "pygments_lexer": "ipython3",
   "version": "3.10.8"
  }
 },
 "nbformat": 4,
 "nbformat_minor": 5
}
